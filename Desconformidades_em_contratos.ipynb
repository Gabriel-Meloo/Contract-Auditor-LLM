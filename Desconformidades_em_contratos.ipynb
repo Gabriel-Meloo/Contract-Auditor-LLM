{
  "cells": [
    {
      "cell_type": "markdown",
      "source": [
        "# CONSUMINDO O LIVRO DE REGRAS"
      ],
      "metadata": {
        "id": "UBAsDsGw_Ghw"
      }
    },
    {
      "cell_type": "code",
      "execution_count": null,
      "metadata": {
        "id": "OXs8uV1W-L_p"
      },
      "outputs": [],
      "source": [
        "# Instalando a biblioteca LlamaIndex\n",
        "!pip install -q llama-index"
      ]
    },
    {
      "cell_type": "code",
      "execution_count": null,
      "metadata": {
        "id": "Uttuap1JdWgo"
      },
      "outputs": [],
      "source": [
        "# Importando a classe que permite carregar documentos de um diretório\n",
        "from llama_index.core import SimpleDirectoryReader"
      ]
    },
    {
      "cell_type": "code",
      "execution_count": null,
      "metadata": {
        "id": "u542v1gydeNB"
      },
      "outputs": [],
      "source": [
        "# Criando uma instância do SimpleDirectoryReader para carregar documentos do diretório 'documentos'\n",
        "regras = SimpleDirectoryReader(input_dir='Documentos')"
      ]
    },
    {
      "cell_type": "code",
      "execution_count": null,
      "metadata": {
        "id": "D0MzlCXvftdq"
      },
      "outputs": [],
      "source": [
        "regras.input_files"
      ]
    },
    {
      "cell_type": "code",
      "execution_count": null,
      "metadata": {
        "id": "3IVRf7CTfx0o"
      },
      "outputs": [],
      "source": [
        "doc_regras = regras.load_data()"
      ]
    },
    {
      "cell_type": "code",
      "execution_count": null,
      "metadata": {
        "id": "ugj1QgkcfzJn"
      },
      "outputs": [],
      "source": [
        "full_text = \"\\n\".join([doc.text for doc in doc_regras])"
      ]
    },
    {
      "cell_type": "code",
      "source": [
        "import re\n",
        "\n",
        "# Ajuste a expressão se sua estrutura for diferente\n",
        "pattern = re.compile(r\"(R\\d{2})\\s*[-–]?\\s*(.*?)(?=(R\\d{2})|$)\", re.DOTALL)\n",
        "matches = pattern.findall(full_text)\n",
        "\n",
        "# Cada match vira um dicionário com id e texto\n",
        "regras_divididas = []\n",
        "for match in matches:\n",
        "    rule_id, rule_text, _ = match\n",
        "    regras_divididas.append({\n",
        "        \"id\": rule_id.strip(),\n",
        "        \"text\": rule_text.strip()\n",
        "    })"
      ],
      "metadata": {
        "id": "r2AzbHI2Xvtu"
      },
      "execution_count": null,
      "outputs": []
    },
    {
      "cell_type": "code",
      "source": [
        "from llama_index.core import Document\n",
        "\n",
        "docs_regras_formatadas = [\n",
        "    Document(\n",
        "        text=regra['text'],\n",
        "        metadata={\"rule_id\": regra['id']}\n",
        "    )\n",
        "    for regra in regras_divididas\n",
        "]"
      ],
      "metadata": {
        "id": "MXmUspKvXyqJ"
      },
      "execution_count": null,
      "outputs": []
    },
    {
      "cell_type": "code",
      "source": [
        "regras_divididas"
      ],
      "metadata": {
        "id": "qUzykR_pgGcN"
      },
      "execution_count": null,
      "outputs": []
    },
    {
      "cell_type": "code",
      "source": [
        "regras_divididas[0]['id']"
      ],
      "metadata": {
        "id": "IgeTSY8pgKeX"
      },
      "execution_count": null,
      "outputs": []
    },
    {
      "cell_type": "code",
      "source": [
        "regras_divididas[0]['text']"
      ],
      "metadata": {
        "id": "j0ah9upygMii"
      },
      "execution_count": null,
      "outputs": []
    },
    {
      "cell_type": "markdown",
      "source": [
        "# IMPORTANDO O EMBEDDING"
      ],
      "metadata": {
        "id": "_MCecsRUAR5o"
      }
    },
    {
      "cell_type": "code",
      "execution_count": null,
      "metadata": {
        "id": "hVLe17xp0IJG"
      },
      "outputs": [],
      "source": [
        "# Instalando o pacote para utilizar modelos de embedding da Hugging Face com o LlamaIndex\n",
        "!pip install -q llama-index-embeddings-huggingface"
      ]
    },
    {
      "cell_type": "code",
      "execution_count": null,
      "metadata": {
        "id": "e08206zl0Xpa"
      },
      "outputs": [],
      "source": [
        "# Importando a classe HuggingFaceEmbedding para utilizar modelos de embedding da Hugging Face no LlamaIndex\n",
        "from llama_index.embeddings.huggingface import HuggingFaceEmbedding"
      ]
    },
    {
      "cell_type": "code",
      "execution_count": null,
      "metadata": {
        "id": "a6cupzdm0ZRe"
      },
      "outputs": [],
      "source": [
        "# Classe personalizada para adaptar a assinatura esperada pelo Chroma\n",
        "class ChromaEmbeddingWrapper:\n",
        "    def __init__(self, model_name): # Inicializa o modelo de embeddings do Hugging Face com o nome especificado\n",
        "        self.model = HuggingFaceEmbedding(model_name=model_name)\n",
        "\n",
        "    def __call__(self, input): # Converte a entrada para um formato compatível com o HuggingFaceEmbedding\n",
        "        return self.model.embed(input)"
      ]
    },
    {
      "cell_type": "code",
      "execution_count": null,
      "metadata": {
        "id": "akJRkpdB0ajn"
      },
      "outputs": [],
      "source": [
        "# Definindo o modelo de embedding usado pelo chroma\n",
        "embed_model_chroma = ChromaEmbeddingWrapper(model_name='intfloat/multilingual-e5-large')"
      ]
    },
    {
      "cell_type": "markdown",
      "source": [
        "# SETUP INICIAL DO BANCO VETORIAL (CHROMA DB)"
      ],
      "metadata": {
        "id": "u7mhGaGkAbM8"
      }
    },
    {
      "cell_type": "code",
      "execution_count": null,
      "metadata": {
        "id": "FgFWxM040dEV"
      },
      "outputs": [],
      "source": [
        "# Instalando o pacote para integrar o Chroma como um armazenamento de vetores no LlamaIndex\n",
        "!pip install -q llama-index-vector-stores-chroma"
      ]
    },
    {
      "cell_type": "code",
      "execution_count": null,
      "metadata": {
        "id": "EN84X9OL2Qv0"
      },
      "outputs": [],
      "source": [
        "# Importando o ChromaDB\n",
        "import chromadb\n",
        "\n",
        "# Criando um cliente persistente do ChromaDB, armazenando os dados no diretório './chroma_db'\n",
        "db = chromadb.PersistentClient(path='db_regras')"
      ]
    },
    {
      "cell_type": "code",
      "execution_count": null,
      "metadata": {
        "id": "EFg_ddL-0esM"
      },
      "outputs": [],
      "source": [
        "# Atribuindo o cliente a uma variável para uso posterior\n",
        "chroma_client = db\n",
        "\n",
        "# Tenta obter uma coleção existente ou criar uma nova, caso não exista\n",
        "try:\n",
        "  chroma_collection = chroma_client.get_or_create_collection('regras_index')\n",
        "\n",
        "# Captura e exibe qualquer erro que ocorra durante a criação ou carregamento da coleção\n",
        "except Exception as e:\n",
        "  print(f'Erro ao carregar ou criar coleção: {e}')"
      ]
    },
    {
      "cell_type": "code",
      "execution_count": null,
      "metadata": {
        "id": "IZY2JCJ62r3y"
      },
      "outputs": [],
      "source": [
        "# Importando a classe para integrar o Chroma como um armazenamento de vetores no LlamaIndex\n",
        "from llama_index.vector_stores.chroma import ChromaVectorStore\n",
        "\n",
        "# Importando a classe que gerencia o armazenamento de índices e vetores\n",
        "from llama_index.core import StorageContext"
      ]
    },
    {
      "cell_type": "code",
      "execution_count": null,
      "metadata": {
        "id": "sCozurzY3Db-"
      },
      "outputs": [],
      "source": [
        "# Criando uma instância do ChromaVectorStore para armazenamento de vetores\n",
        "vector_store = ChromaVectorStore(chroma_collection=chroma_collection)\n",
        "\n",
        "# Configurando um contexto de armazenamento com o vector_store como armazenamento de vetores\n",
        "storage_context = StorageContext.from_defaults(vector_store=vector_store)"
      ]
    },
    {
      "cell_type": "markdown",
      "source": [
        "# CRIANDO UM INDICE DE ARMAZENAMENTO DE VETORES"
      ],
      "metadata": {
        "id": "tObnfH5YA9yl"
      }
    },
    {
      "cell_type": "code",
      "execution_count": null,
      "metadata": {
        "id": "-j_9ckCJ3E-k"
      },
      "outputs": [],
      "source": [
        "# Definindo o modelo de embedding\n",
        "embed_model = HuggingFaceEmbedding(model_name='intfloat/multilingual-e5-large')"
      ]
    },
    {
      "cell_type": "code",
      "execution_count": null,
      "metadata": {
        "id": "3u0rK2Sj3aYA"
      },
      "outputs": [],
      "source": [
        "# Importando a classe VectorStoreIndex do LlamaIndex, que permite criar um índice de armazenamento de vetores\n",
        "from llama_index.core import VectorStoreIndex\n",
        "\n",
        "# Criando um índice de armazenamento de vetores\n",
        "index_regras = VectorStoreIndex(docs_regras_formatadas, storage_context=storage_context, embed_model=embed_model)"
      ]
    },
    {
      "cell_type": "code",
      "execution_count": null,
      "metadata": {
        "id": "2v5SYHcT3bpJ"
      },
      "outputs": [],
      "source": [
        "# Importando a função do LlamaIndex, que permite carregar um índice previamente salvo\n",
        "from llama_index.core import load_index_from_storage\n",
        "\n",
        "# Carregando um índice existente a partir do contexto de armazenamento\n",
        "index_regras = load_index_from_storage(storage_context, embed_model=embed_model)"
      ]
    },
    {
      "cell_type": "markdown",
      "metadata": {
        "id": "4Wjf6hxusekD"
      },
      "source": [
        "# DEFININDO O MODELO LLM A SER UTILIZADO"
      ]
    },
    {
      "cell_type": "code",
      "execution_count": null,
      "metadata": {
        "id": "-eKBA1rr3qyt"
      },
      "outputs": [],
      "source": [
        "# Instalando o pacote `llama-index-llms-openai` para integrar o OpenAI com o LlamaIndex\n",
        "!pip install llama-index llama-index-llms-openai"
      ]
    },
    {
      "cell_type": "code",
      "execution_count": null,
      "metadata": {
        "id": "dOwBvYVA3oUK"
      },
      "outputs": [],
      "source": [
        "# Recuperando a chave da API armazenada nos segredos do usuário no Google Colab\n",
        "from google.colab import userdata\n",
        "OPENAI_API = userdata.get('OPENAI_API_KEY')"
      ]
    },
    {
      "cell_type": "code",
      "execution_count": null,
      "metadata": {
        "id": "deWKCppi3r3I"
      },
      "outputs": [],
      "source": [
        "# Importando o setup padrao\n",
        "from llama_index.llms.openai import OpenAI\n",
        "\n",
        "# Criando uma instância do Groq com o modelo 'llama3-70b-8192' e a chave de API fornecida\n",
        "model = OpenAI(model='o3-mini', api_key= OPENAI_API)"
      ]
    },
    {
      "cell_type": "code",
      "execution_count": null,
      "metadata": {
        "id": "opDmhw6o3tut"
      },
      "outputs": [],
      "source": [
        "# Configura o `query_engine` a partir do index\n",
        "query_engine = index_regras.as_query_engine(llm= model, similarity_top_k=10)"
      ]
    },
    {
      "cell_type": "code",
      "source": [
        "from IPython.display import Markdown, display"
      ],
      "metadata": {
        "id": "24kf_IYWbCDn"
      },
      "execution_count": null,
      "outputs": []
    },
    {
      "cell_type": "code",
      "execution_count": null,
      "metadata": {
        "id": "EoD9_CjD3w8g"
      },
      "outputs": [],
      "source": [
        "visual = display(Markdown(query_engine.query('Quais são as regras contratuais?').response))"
      ]
    },
    {
      "cell_type": "markdown",
      "metadata": {
        "id": "SClpGOIkrr75"
      },
      "source": [
        "# INPUT DO ARQUIVO DO USUARIO"
      ]
    },
    {
      "cell_type": "code",
      "source": [
        "contrato = SimpleDirectoryReader(input_dir=\"Documentos_User\").load_data()\n",
        "texto_contrato = \"\\n\".join([doc.text for doc in contrato])"
      ],
      "metadata": {
        "id": "5kOmMyIMacZy"
      },
      "execution_count": null,
      "outputs": []
    },
    {
      "cell_type": "code",
      "source": [
        "from llama_index.core.node_parser import SentenceSplitter\n",
        "\n",
        "parser = SentenceSplitter(chunk_size=500, chunk_overlap=250)\n",
        "contrato_chunks = parser.split_text(texto_contrato)"
      ],
      "metadata": {
        "id": "chCX5-f2acRd"
      },
      "execution_count": null,
      "outputs": []
    },
    {
      "cell_type": "code",
      "source": [
        "len(contrato_chunks)"
      ],
      "metadata": {
        "id": "trfikl78q3-5"
      },
      "execution_count": null,
      "outputs": []
    },
    {
      "cell_type": "markdown",
      "source": [
        "# PASSA CHUNK POR CHUNK E VERIFICA QUAIS REGRAS SE APLICAM A ELES"
      ],
      "metadata": {
        "id": "TtptLxmXbcIf"
      }
    },
    {
      "cell_type": "markdown",
      "source": [
        "# PROMPT"
      ],
      "metadata": {
        "id": "JRQ3bD9EcgLO"
      }
    },
    {
      "cell_type": "code",
      "source": [
        "for chunk in enumerate(contrato_chunks):\n",
        "\n",
        "        prompt_user = f\"\"\"\n",
        "        Você atuará como especialista jurídico, com a finalidade de identificar eventuais desconformidades em contratos de prestação de serviços.\n",
        "\n",
        "          Para tanto, deverá utilizar como base interpretativa o conjunto de regras contratuais constantes na base de dados.\n",
        "\n",
        "          # Objetivo:\n",
        "          Analisar o contrato com base nas regras fornecidas, indicando:\n",
        "\n",
        "          ## 1. Regras Faltantes\n",
        "          Liste as regras da base que não estão presentes no contrato.\n",
        "\n",
        "          Para cada regra faltante, apresente:\n",
        "          - **Título da Regra (código e nome)**\n",
        "          - **Justificativa:** Explique por que a regra não se aplica ou não foi contemplada.\n",
        "          - **Avaliação:** Sugira uma cláusula para ser inserida no contrato, a fim de adequá-lo à regra.\n",
        "\n",
        "          ## 2. Regras Presentes no Documento\n",
        "          Para cada regra presente no contrato:\n",
        "\n",
        "          1. Informe o código e nome da regra.\n",
        "          2. Verifique se há **desconformidade**:\n",
        "            - Se **não houver**, diga \"Desconformidade: Não há\" e descreva a cláusula correspondente que comprova a conformidade.\n",
        "            - Se **houver**, apresente:\n",
        "              - **Desconformidade:** Trecho literal do contrato que viola ou não atende plenamente à regra.\n",
        "              - **Regra Violada:** Transcreva o conteúdo da regra.\n",
        "              - **Avaliação:** Sugira como o trecho pode ser ajustado para estar em conformidade.\n",
        "\n",
        "          # Formato de resposta esperado:\n",
        "\n",
        "          ### 1. Regras Faltantes\n",
        "\n",
        "          #### RXX – Nome da Regra\n",
        "          - **Justificativa:** [texto explicando ausência]\n",
        "          - **Avaliação:**\n",
        "            > Cláusula sugerida para conformidade: \"[cláusula sugerida]\"\n",
        "\n",
        "          ---\n",
        "\n",
        "          ### 2. Regras Presentes no Documento\n",
        "\n",
        "          #### RXX – Nome da Regra\n",
        "          - **Desconformidade:** [Sim / Não]\n",
        "          - **Trecho do Contrato:** [se houver desconformidade]\n",
        "          - **Regra Violada:** [texto da regra, se aplicável]\n",
        "          - **Avaliação:**\n",
        "            > [sugestão de cláusula ou ajuste]\n",
        "\n",
        "          ---\n",
        "\n",
        "          # Regras constantes na base de dados:\n",
        "          {regras_divididas}\n",
        "\n",
        "          # Conteúdo do contrato de prestação de serviços:\n",
        "          {chunk}\n",
        "\n",
        "          Responda em PT-BR com linguagem técnica e jurídica.\n",
        "              \"\"\"\n",
        "\n"
      ],
      "metadata": {
        "id": "K4rtz0kP9ckc"
      },
      "execution_count": null,
      "outputs": []
    },
    {
      "cell_type": "code",
      "source": [
        "resposta = query_engine.query(prompt_user)"
      ],
      "metadata": {
        "id": "lP9FmZA7clsM"
      },
      "execution_count": null,
      "outputs": []
    },
    {
      "cell_type": "code",
      "source": [
        "texto = resposta.response"
      ],
      "metadata": {
        "id": "dsrvdbWGiVYB"
      },
      "execution_count": null,
      "outputs": []
    },
    {
      "cell_type": "code",
      "source": [
        "texto"
      ],
      "metadata": {
        "id": "BnpJxkhkiyVK"
      },
      "execution_count": null,
      "outputs": []
    },
    {
      "cell_type": "code",
      "source": [
        "type(texto)"
      ],
      "metadata": {
        "id": "KNIE_g7O8O9H"
      },
      "execution_count": null,
      "outputs": []
    },
    {
      "cell_type": "markdown",
      "source": [
        "# TESTANDO O MODELO"
      ],
      "metadata": {
        "id": "ozWm1NxaXQDl"
      }
    },
    {
      "cell_type": "code",
      "source": [
        "gold_output = '''Para R01: Verifique se há menção a prazo de pagamento ≤ 30 dias após a prestação.\n",
        "→ Cláusula 3 diz: “pagos até o dia 10 do mês subsequente à prestação” → Conformidade.\n",
        "\n",
        "Para R02: Verifique se há cláusula de confidencialidade em contratos que envolvam informações estratégicas.\n",
        "→ Contrato trata de marketing digital (estratégia). Cláusula 6 confirma sigilo → Conformidade.\n",
        "\n",
        "Para R03: Verifique se há multa em caso de rescisão unilateral (sem culpa).\n",
        "→ Cláusula 5: há aviso prévio de 30 dias e multa de um mês → Conformidade.\n",
        "\n",
        "Para R04: Verifique se há cláusula de não concorrência quando houver acesso a estratégias comerciais.\n",
        "→ Contrato envolve marketing digital, o que naturalmente dá acesso a estratégias.\n",
        "→ Nenhuma cláusula de não concorrência presente → Inconformidade.\n",
        "\n",
        "Para R05: Verifique se está definido quem será o proprietário do material desenvolvido.\n",
        "→ Cláusula 7 diz que o material será da contratante → Conformidade'''"
      ],
      "metadata": {
        "id": "iKPqdXFd2Nok"
      },
      "execution_count": null,
      "outputs": []
    },
    {
      "cell_type": "code",
      "source": [
        "pip install -U deepeval"
      ],
      "metadata": {
        "collapsed": true,
        "id": "XWlWbnwDXSpi"
      },
      "execution_count": null,
      "outputs": []
    },
    {
      "cell_type": "code",
      "source": [
        "from deepeval.models import GPTModel"
      ],
      "metadata": {
        "id": "ZjmITR8nfFq-"
      },
      "execution_count": null,
      "outputs": []
    },
    {
      "cell_type": "code",
      "source": [
        "model = GPTModel(\n",
        "    model=\"gpt-4o\",\n",
        "    _openai_api_key = OPENAI_API,\n",
        "    )"
      ],
      "metadata": {
        "id": "mDRnkJzWfGgL"
      },
      "execution_count": null,
      "outputs": []
    },
    {
      "cell_type": "code",
      "source": [
        "from deepeval.metrics import (\n",
        "    ContextualPrecisionMetric,\n",
        "    ContextualRecallMetric,\n",
        "    ContextualRelevancyMetric\n",
        ")\n",
        "contextual_precision = ContextualPrecisionMetric(model = model)\n",
        "contextual_recall = ContextualRecallMetric(model = model)\n",
        "contextual_relevancy = ContextualRelevancyMetric(model = model)"
      ],
      "metadata": {
        "id": "Y1wzB_oYvrEX"
      },
      "execution_count": null,
      "outputs": []
    },
    {
      "cell_type": "code",
      "source": [
        "from deepeval.test_case import LLMTestCase"
      ],
      "metadata": {
        "id": "piL3H1FbvuN5"
      },
      "execution_count": null,
      "outputs": []
    },
    {
      "cell_type": "code",
      "source": [
        "# Process the response object to get the output string\n",
        "# and retrieved nodes\n",
        "if resposta is not None:\n",
        "    actual_output = resposta.response\n",
        "    retrieval_context = [node.get_content() for node in resposta.source_nodes]\n",
        "\n",
        "# Create a test case and metric as usual\n",
        "test_case = LLMTestCase(\n",
        "    input=prompt_user,\n",
        "    actual_output=actual_output,\n",
        "    expected_output=gold_output,\n",
        "    retrieval_context=retrieval_context\n",
        ")\n"
      ],
      "metadata": {
        "id": "4ua6ReA7eC60"
      },
      "execution_count": null,
      "outputs": []
    },
    {
      "cell_type": "markdown",
      "source": [
        "# CONTEXTUAL TEST"
      ],
      "metadata": {
        "id": "TXRJl08Iw6yD"
      }
    },
    {
      "cell_type": "code",
      "source": [
        "contextual_precision.measure(test_case)\n",
        "print(\"Score: \", contextual_precision.score)\n",
        "print(\"Reason: \", contextual_precision.reason)"
      ],
      "metadata": {
        "id": "mXU50TnIw4In"
      },
      "execution_count": null,
      "outputs": []
    },
    {
      "cell_type": "code",
      "source": [
        "contextual_recall.measure(test_case)\n",
        "print(\"Score: \", contextual_recall.score)\n",
        "print(\"Reason: \", contextual_recall.reason)"
      ],
      "metadata": {
        "id": "hHG14N5q2bLX"
      },
      "execution_count": null,
      "outputs": []
    },
    {
      "cell_type": "code",
      "source": [
        "contextual_relevancy.measure(test_case)\n",
        "print(\"Score: \", contextual_relevancy.score)\n",
        "print(\"Reason: \", contextual_relevancy.reason)"
      ],
      "metadata": {
        "id": "27dlE5-m2cR-"
      },
      "execution_count": null,
      "outputs": []
    },
    {
      "cell_type": "markdown",
      "source": [
        "# ANSWER QUALITY"
      ],
      "metadata": {
        "id": "lCDgUKz0xBIa"
      }
    },
    {
      "cell_type": "code",
      "source": [
        "from deepeval.metrics import AnswerRelevancyMetric, FaithfulnessMetric\n",
        "\n",
        "answer_relevancy = AnswerRelevancyMetric(model = model)\n",
        "faithfulness = FaithfulnessMetric(model = model)"
      ],
      "metadata": {
        "id": "mjRj0uVmxPCk"
      },
      "execution_count": null,
      "outputs": []
    },
    {
      "cell_type": "code",
      "source": [
        "answer_relevancy.measure(test_case)\n",
        "print(\"Score: \", answer_relevancy.score)\n",
        "print(\"Reason: \", answer_relevancy.reason)"
      ],
      "metadata": {
        "id": "PtxoEsBZxPj4"
      },
      "execution_count": null,
      "outputs": []
    },
    {
      "cell_type": "code",
      "source": [
        "faithfulness.measure(test_case)\n",
        "print(\"Score: \", faithfulness.score)\n",
        "print(\"Reason: \", faithfulness.reason)"
      ],
      "metadata": {
        "id": "iP4z2cDXxWW0"
      },
      "execution_count": null,
      "outputs": []
    },
    {
      "cell_type": "markdown",
      "source": [
        "# Transforma em PDF"
      ],
      "metadata": {
        "id": "Yxm_jgk9jYLv"
      }
    },
    {
      "cell_type": "code",
      "source": [
        "pip install fpdf"
      ],
      "metadata": {
        "collapsed": true,
        "id": "fehHio0QhYKH"
      },
      "execution_count": null,
      "outputs": []
    },
    {
      "cell_type": "code",
      "source": [
        "from fpdf import FPDF\n",
        "import unicodedata"
      ],
      "metadata": {
        "id": "UGUFulMYhVKm"
      },
      "execution_count": null,
      "outputs": []
    },
    {
      "cell_type": "code",
      "source": [
        "def remover_unicode(texto):\n",
        "    return unicodedata.normalize('NFKD', texto).encode('ASCII', 'ignore').decode('ASCII')"
      ],
      "metadata": {
        "id": "cOpOWsiVjG42"
      },
      "execution_count": null,
      "outputs": []
    },
    {
      "cell_type": "code",
      "source": [
        "texto_limpo = remover_unicode(texto)\n"
      ],
      "metadata": {
        "id": "YXjjdQ4FjRcN"
      },
      "execution_count": null,
      "outputs": []
    },
    {
      "cell_type": "code",
      "source": [
        "def gerar_pdf(texto, nome_arquivo=\"relatorio_contrato.pdf\"):\n",
        "\n",
        "    pdf = FPDF()\n",
        "    pdf.add_page()\n",
        "    pdf.set_auto_page_break(auto=True, margin=15)\n",
        "    pdf.set_font(\"Arial\", size=12)\n",
        "\n",
        "    # Divide o texto em linhas para caber no PDF\n",
        "    for linha in texto.split('\\n'):\n",
        "        pdf.multi_cell(0, 10, linha)\n",
        "\n",
        "    pdf.output(nome_arquivo)\n",
        "\n",
        "gerar_pdf(texto_limpo)"
      ],
      "metadata": {
        "id": "SwtZu0fbguRy"
      },
      "execution_count": null,
      "outputs": []
    }
  ],
  "metadata": {
    "colab": {
      "provenance": []
    },
    "kernelspec": {
      "display_name": "Python 3",
      "name": "python3"
    },
    "language_info": {
      "name": "python"
    }
  },
  "nbformat": 4,
  "nbformat_minor": 0
}